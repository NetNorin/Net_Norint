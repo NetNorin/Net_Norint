{
  "cells": [
    {
      "cell_type": "code",
      "execution_count": null,
      "metadata": {
        "id": "ffcmdFR3hE5q"
      },
      "outputs": [],
      "source": [
        "!pip install torch\n",
        "!pip install scikit-learn\n",
        "!pip install scikit-image\n",
        "!pip install earthengine-api\n",
        "!pip install rasterio\n",
        "!pip install lmdb\n",
        "!pip install pyshp\n",
        "!pip install shapely\n",
        "!pip install pytorch-lightning\n",
        "!pip install pytorch-lightning-bolts\n",
        "!pip install torchvision"
      ]
    },
    {
      "cell_type": "code",
      "execution_count": null,
      "metadata": {
        "id": "g5IJLzTL331O"
      },
      "outputs": [],
      "source": [
        "!git clone https://github.com/Akkarapon-chaiyana/ChangeDetection.git"
      ]
    },
    {
      "cell_type": "code",
      "execution_count": null,
      "metadata": {
        "id": "0bn-6VfvAWWO"
      },
      "outputs": [],
      "source": [
        "import ee\n",
        "import os\n",
        "import random\n",
        "ee.Authenticate()\n",
        "ee.Initialize(project = 'tony-1122')\n",
        "print(ee.String('Hello from the Earth Engine servers!').getInfo())"
      ]
    },
    {
      "cell_type": "code",
      "execution_count": null,
      "metadata": {
        "id": "PtOSkCXyAu7A"
      },
      "outputs": [],
      "source": [
        "from google.colab import drive\n",
        "drive.mount('/content/drive')"
      ]
    },
    {
      "cell_type": "code",
      "execution_count": null,
      "metadata": {
        "id": "hafPbUOB4zTo"
      },
      "outputs": [],
      "source": [
        "# Path to the folder you want to create\n",
        "folder_path = '/content/drive/MyDrive/ChangeDetection'\n",
        "\n",
        "# Create the folder if it does not exist\n",
        "if not os.path.exists(folder_path):\n",
        "    os.makedirs(folder_path)\n",
        "    print(\"Folder created\")\n",
        "else:\n",
        "    print(\"Folder already exists\")"
      ]
    },
    {
      "cell_type": "code",
      "execution_count": null,
      "metadata": {
        "id": "07Yqox0Yf-Jx"
      },
      "outputs": [],
      "source": [
        "# Path to the folder you want to create\n",
        "folder_path = '/content/drive/MyDrive/ChangeDetection/Images'\n",
        "\n",
        "# Create the folder if it does not exist\n",
        "if not os.path.exists(folder_path):\n",
        "    os.makedirs(folder_path)\n",
        "    print(\"Folder created\")\n",
        "else:\n",
        "    print(\"Folder already exists\")"
      ]
    },
    {
      "cell_type": "code",
      "execution_count": null,
      "metadata": {
        "id": "aZtzFW2Zf_XX"
      },
      "outputs": [],
      "source": [
        "# Base path for the folders\n",
        "base_path = '/content/drive/MyDrive/ChangeDetection/Images'\n",
        "\n",
        "# List of folder names to create\n",
        "folders = ['before', 'after', 'label']\n",
        "\n",
        "# Loop through the folder names and create each one\n",
        "for folder in folders:\n",
        "    folder_path = os.path.join(base_path, folder)\n",
        "    if not os.path.exists(folder_path):\n",
        "        os.makedirs(folder_path)\n",
        "        print(f\"Folder '{folder}' created\")\n",
        "    else:\n",
        "        print(f\"Folder '{folder}' already exists\")"
      ]
    },
    {
      "cell_type": "code",
      "execution_count": null,
      "metadata": {
        "id": "oyY7pn1dgCWR"
      },
      "outputs": [],
      "source": [
        "# Path to the folder you want to create\n",
        "folder_path = '/content/drive/MyDrive/ChangeDetection/Output'\n",
        "\n",
        "# Create the folder if it does not exist\n",
        "if not os.path.exists(folder_path):\n",
        "    os.makedirs(folder_path)\n",
        "    print(\"Folder created\")\n",
        "else:\n",
        "    print(\"Folder already exists\")"
      ]
    },
    {
      "cell_type": "code",
      "execution_count": null,
      "metadata": {
        "id": "HcIHraZzgE-z"
      },
      "outputs": [],
      "source": [
        "# Base path for the folders\n",
        "base_path = '/content/drive/MyDrive/ChangeDetection/Output'\n",
        "\n",
        "# List of folder names to create\n",
        "folders = ['Inference', 'Prediction_TIFFs', 'Validations_Figures']\n",
        "\n",
        "# Loop through the folder names and create each one\n",
        "for folder in folders:\n",
        "    folder_path = os.path.join(base_path, folder)\n",
        "    if not os.path.exists(folder_path):\n",
        "        os.makedirs(folder_path)\n",
        "        print(f\"Folder '{folder}' created\")\n",
        "    else:\n",
        "        print(f\"Folder '{folder}' already exists\")"
      ]
    },
    {
      "cell_type": "code",
      "execution_count": null,
      "metadata": {
        "id": "xhqNGI67Au95"
      },
      "outputs": [],
      "source": [
        "%cd /content/ChangeDetection"
      ]
    },
    {
      "cell_type": "code",
      "execution_count": null,
      "metadata": {
        "id": "Cs-8anzhAvA0"
      },
      "outputs": [],
      "source": [
        "!python exports2AlertsGlad.py"
      ]
    },
    {
      "cell_type": "code",
      "execution_count": null,
      "metadata": {
        "id": "E6K4Uy6bhDzZ"
      },
      "outputs": [],
      "source": [
        "# Set paths\n",
        "dataset_path = \"/content/drive/MyDrive/ChangeDetection/Images/after\"\n",
        "train_file = \"/content/drive/MyDrive/ChangeDetection/Images/train.txt\"\n",
        "test_file = \"/content/drive/MyDrive/ChangeDetection/Images/test.txt\"\n",
        "all_file = \"/content/drive/MyDrive/ChangeDetection/Images/all.txt\"\n",
        "\n",
        "# Parameters\n",
        "train_split = 0.7\n",
        "\n",
        "# Get the list of all folders or images in the dataset\n",
        "all_files = os.listdir(dataset_path)\n",
        "\n",
        "# Write all.txt\n",
        "with open(all_file, 'w') as f:\n",
        "    f.write(\",\".join(all_files))\n",
        "\n",
        "random.shuffle(all_files)\n",
        "\n",
        "# Split into train and test\n",
        "train_size = int(len(all_files) * train_split)\n",
        "train_files = all_files[:train_size]\n",
        "test_files = all_files[train_size:]\n",
        "\n",
        "# Write train.txt\n",
        "with open(train_file, 'w') as f:\n",
        "    f.write(\",\".join(train_files))\n",
        "\n",
        "# Write test.txt\n",
        "with open(test_file, 'w') as f:\n",
        "    f.write(\",\".join(test_files))"
      ]
    },
    {
      "cell_type": "code",
      "execution_count": null,
      "metadata": {
        "id": "5-t78EnDheoB"
      },
      "outputs": [],
      "source": [
        "# ckp_path can download from https://github.com/zhu-xlab/SSL4EO-S12\n",
        "!python main_oscd.py  \\\n",
        "--data_dir /content/drive/MyDrive/ChangeDetection/Images  \\\n",
        "--ckp_path /content/drive/MyDrive/SSL4EO/model/B13_rn18_moco_0099_ckpt.pth \\\n",
        "--result_dir /content/drive/MyDrive/ChangeDetection/Output \\\n",
        "--resnet_type 18 \\\n",
        "--n_channels 13 \\\n",
        "--n_epochs 10"
      ]
    },
    {
      "cell_type": "code",
      "execution_count": null,
      "metadata": {
        "id": "46I9y6tjheqU"
      },
      "outputs": [],
      "source": [
        "!python validate_oscd.py \\\n",
        "--data_dir /content/drive/MyDrive/ChangeDetection/Images \\\n",
        "--ckp_pretrain /content/drive/MyDrive/SSL4EO/model/B13_rn18_moco_0099_ckpt.pth \\\n",
        "--ckp_resume /content/drive/MyDrive/ChangeDetection/Output/ckps/random/*.ckpt \\\n",
        "--result_dir /content/drive/MyDrive/ChangeDetection/Output \\\n",
        "--n_channels 13 \\\n",
        "--n_epochs 10 \\\n",
        "--resnet_type 18"
      ]
    },
    {
      "cell_type": "code",
      "execution_count": null,
      "metadata": {
        "id": "0FQN75UMhesq"
      },
      "outputs": [],
      "source": [
        "from IPython.display import display\n",
        "from PIL import Image"
      ]
    },
    {
      "cell_type": "code",
      "execution_count": null,
      "metadata": {
        "id": "gjih6Uv3heuw"
      },
      "outputs": [],
      "source": [
        "def display_images_from_folder(folder_path):\n",
        "    for filename in os.listdir(folder_path):\n",
        "        if filename.endswith(\".png\") or filename.endswith(\".tif\"):  # checking file extension\n",
        "            img_path = os.path.join(folder_path, filename)\n",
        "            with Image.open(img_path) as img:\n",
        "                display(img)\n",
        "                #print(filename)  # Optional: to show the file name above the image"
      ]
    },
    {
      "cell_type": "code",
      "execution_count": null,
      "metadata": {
        "colab": {
          "background_save": true
        },
        "id": "ylVgkjFmhnle"
      },
      "outputs": [],
      "source": [
        "folder_path = '/content/drive/MyDrive/ChangeDetection/Output/Validations_Figures'\n",
        "display_images_from_folder(folder_path)"
      ]
    },
    {
      "cell_type": "code",
      "execution_count": null,
      "metadata": {
        "id": "IHKUUy9KhnoB"
      },
      "outputs": [],
      "source": [
        "## Remarks main_oscd_inference.py will read ckp_resume differently.\n",
        "## We can edit it on Colab of git clone folder.\n",
        "!python main_oscd_inference.py \\\n",
        "--data_dir /content/drive/MyDrive/ChangeDetection/Images \\\n",
        "--ckp_path /content/drive/MyDrive/SSL4EO/model/B13_rn18_moco_0099_ckpt.pth \\\n",
        "--result_dir /content/drive/MyDrive/ChangeDetection/Output \\\n",
        "--n_channels 13 \\\n",
        "--n_epochs 10 \\\n",
        "--resnet_type 18"
      ]
    },
    {
      "cell_type": "code",
      "execution_count": null,
      "metadata": {
        "id": "eZMvsEpJhnzi"
      },
      "outputs": [],
      "source": [
        "import rasterio\n",
        "from rasterio.plot import show\n",
        "import matplotlib.pyplot as plt\n",
        "import glob\n",
        "import os\n",
        "\n",
        "# Path to the folder containing .tif files\n",
        "folder_path = '/content/drive/MyDrive/ChangeDetection/Output/Inference'\n",
        "\n",
        "# List all .tif files in the folder\n",
        "tif_files = glob.glob(os.path.join(folder_path, '*.tif'))"
      ]
    },
    {
      "cell_type": "code",
      "execution_count": null,
      "metadata": {
        "colab": {
          "background_save": true
        },
        "id": "ClpJEu0vwYSj"
      },
      "outputs": [],
      "source": [
        "# Number of columns for the subplot\n",
        "columns = 4\n",
        "# Calculate number of rows needed\n",
        "rows = len(tif_files) // columns + (1 if len(tif_files) % columns else 0)\n",
        "\n",
        "# Create a figure with subplots\n",
        "plt.figure(figsize=(15, rows * 5))\n",
        "\n",
        "for i, file in enumerate(tif_files):\n",
        "    with rasterio.open(file) as src:\n",
        "        # Read the image data\n",
        "        image = src.read()\n",
        "        # Create subplot\n",
        "        ax = plt.subplot(rows, columns, i + 1)\n",
        "        # Display the image\n",
        "        show(image, ax=ax, transform=src.transform)\n",
        "        # Set title as filename\n",
        "        ax.set_title(os.path.basename(file))\n",
        "        # Remove x and y ticks\n",
        "        ax.set_xticks([])\n",
        "        ax.set_yticks([])\n",
        "\n",
        "plt.tight_layout()\n",
        "plt.show()\n"
      ]
    }
  ],
  "metadata": {
    "accelerator": "GPU",
    "colab": {
      "gpuType": "L4",
      "machine_shape": "hm",
      "provenance": []
    },
    "kernelspec": {
      "display_name": "Python 3",
      "name": "python3"
    },
    "language_info": {
      "name": "python"
    }
  },
  "nbformat": 4,
  "nbformat_minor": 0
}